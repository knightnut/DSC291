{
 "cells": [
  {
   "cell_type": "markdown",
   "metadata": {
    "slideshow": {
     "slide_type": "slide"
    }
   },
   "source": [
    "# Philipp's try at some stuff for hw2\n",
    "\n",
    "Note to self: Make sure to run this notebook in the conda environment to have packages available. \n",
    "\n",
    "    conda activate\n",
    "    jupyter notebook\n"
   ]
  },
  {
   "cell_type": "code",
   "execution_count": 1,
   "metadata": {
    "slideshow": {
     "slide_type": "fragment"
    }
   },
   "outputs": [
    {
     "name": "stdout",
     "output_type": "stream",
     "text": [
      "Populating the interactive namespace from numpy and matplotlib\n"
     ]
    }
   ],
   "source": [
    "# import stuff\n",
    "from os.path import isfile,isdir\n",
    "from os import mkdir,chdir,getcwd\n",
    "import pickle as pk\n",
    "import pandas as pd\n",
    "import numpy as np\n",
    "import subprocess\n",
    "from time import sleep\n",
    "import argparse\n",
    "\n",
    "# enable inline graphics\n",
    "%pylab inline  "
   ]
  },
  {
   "cell_type": "markdown",
   "metadata": {
    "slideshow": {
     "slide_type": "slide"
    }
   },
   "source": [
    "##### Coolio, let's start by listing instances. "
   ]
  },
  {
   "cell_type": "code",
   "execution_count": 2,
   "metadata": {
    "slideshow": {
     "slide_type": "fragment"
    }
   },
   "outputs": [
    {
     "name": "stdout",
     "output_type": "stream",
     "text": [
      "--------------------------------------------------------------------------------------------------------------------\r\n",
      "\u001b[0m\u001b[0m|                                                 DescribeInstances                                                |\u001b[0m\u001b[0m\r\n",
      "\u001b[0m\u001b[0m+---------------------+----------------------+---------------------------+---------------+-----------+-------------+\u001b[0m\u001b[0m\r\n",
      "\u001b[0m\u001b[0m|      Instance       |       KeyName        |        LaunchTime         |     Name      |   State   |    Type     |\u001b[0m\u001b[0m\r\n",
      "\u001b[0m\u001b[0m+---------------------+----------------------+---------------------------+---------------+-----------+-------------+\u001b[0m\u001b[0m\r\n",
      "\u001b[0m\u001b[0m|  \u001b[1m\u001b[34mi-05967ef5947ff43d2\u001b[0m|  \u001b[1m\u001b[34mJakeDSC291KeyPair\u001b[0m   |  \u001b[1m\u001b[34m2020-04-21T04:00:52.000Z\u001b[0m |  \u001b[1m\u001b[34mh2m5large\u001b[0m    |  \u001b[1m\u001b[34mrunning\u001b[0m  |  \u001b[1m\u001b[34mm5.large\u001b[0m   |\u001b[0m\u001b[0m\r\n",
      "\u001b[0m\u001b[0m|  \u001b[1m\u001b[34mi-023ee52bcf5304bae\u001b[0m|  \u001b[1m\u001b[34mMyKeyPair\u001b[0m           |  \u001b[1m\u001b[34m2020-04-13T20:09:37.000Z\u001b[0m |  \u001b[1m\u001b[34mtesting\u001b[0m      |  \u001b[1m\u001b[34mstopped\u001b[0m  |  \u001b[1m\u001b[34mm3.xlarge\u001b[0m  |\u001b[0m\u001b[0m\r\n",
      "\u001b[0m\u001b[0m|  \u001b[1m\u001b[34mi-0e750b622e671c41c\u001b[0m|  \u001b[1m\u001b[34mMyKeyPair\u001b[0m           |  \u001b[1m\u001b[34m2020-04-13T20:09:37.000Z\u001b[0m |  \u001b[1m\u001b[34mtesting\u001b[0m      |  \u001b[1m\u001b[34mstopped\u001b[0m  |  \u001b[1m\u001b[34mm3.xlarge\u001b[0m  |\u001b[0m\u001b[0m\r\n",
      "\u001b[0m\u001b[0m|  \u001b[1m\u001b[34mi-019a78579f68fa7b7\u001b[0m|  \u001b[1m\u001b[34mJunyanDSC291KeyPair\u001b[0m |  \u001b[1m\u001b[34m2020-04-15T22:05:55.000Z\u001b[0m |  \u001b[1m\u001b[34mjunyanTest\u001b[0m   |  \u001b[1m\u001b[34mstopped\u001b[0m  |  \u001b[1m\u001b[34mm3.xlarge\u001b[0m  |\u001b[0m\u001b[0m\r\n",
      "\u001b[0m\u001b[0m|  \u001b[1m\u001b[34mi-01a0595e7d6553267\u001b[0m|  \u001b[1m\u001b[34mJunyanDSC291KeyPair\u001b[0m |  \u001b[1m\u001b[34m2020-04-15T22:41:18.000Z\u001b[0m |  \u001b[1m\u001b[34mOHTest\u001b[0m       |  \u001b[1m\u001b[34mstopped\u001b[0m  |  \u001b[1m\u001b[34mm3.xlarge\u001b[0m  |\u001b[0m\u001b[0m\r\n",
      "\u001b[0m\u001b[0m|  \u001b[1m\u001b[34mi-07156ce0a02cb30a1\u001b[0m|  \u001b[1m\u001b[34mTestKeyPair2\u001b[0m        |  \u001b[1m\u001b[34m2020-04-16T23:11:50.000Z\u001b[0m |  \u001b[1m\u001b[34mapple_dsc291\u001b[0m |  \u001b[1m\u001b[34mstopped\u001b[0m  |  \u001b[1m\u001b[34mm3.xlarge\u001b[0m  |\u001b[0m\u001b[0m\r\n",
      "\u001b[0m\u001b[0m|  \u001b[1m\u001b[34mi-01b165f55c981c02d\u001b[0m|  \u001b[1m\u001b[34mMyKeyPair\u001b[0m           |  \u001b[1m\u001b[34m2020-04-17T18:44:32.000Z\u001b[0m |  \u001b[1m\u001b[34msimmons_HW2\u001b[0m  |  \u001b[1m\u001b[34mstopped\u001b[0m  |  \u001b[1m\u001b[34mm3.xlarge\u001b[0m  |\u001b[0m\u001b[0m\r\n",
      "\u001b[0m\u001b[0m|  \u001b[1m\u001b[34mi-08506d47c552e543b\u001b[0m|  \u001b[1m\u001b[34mJakeDSC291KeyPair\u001b[0m   |  \u001b[1m\u001b[34m2020-04-21T04:54:42.000Z\u001b[0m |  \u001b[1m\u001b[34mHW2_Testing\u001b[0m  |  \u001b[1m\u001b[34mrunning\u001b[0m  |  \u001b[1m\u001b[34mm3.xlarge\u001b[0m  |\u001b[0m\u001b[0m\r\n",
      "\u001b[0m\u001b[0m|  \u001b[1m\u001b[34mi-04c7fc12fce0fcead\u001b[0m|  \u001b[1m\u001b[34mMyKeyPair\u001b[0m           |  \u001b[1m\u001b[34m2020-04-20T23:48:36.000Z\u001b[0m |  \u001b[1m\u001b[34mHW2_t2\u001b[0m       |  \u001b[1m\u001b[34mrunning\u001b[0m  |  \u001b[1m\u001b[34mt2.small\u001b[0m   |\u001b[0m\u001b[0m\r\n",
      "\u001b[0m\u001b[0m|  \u001b[1m\u001b[34mi-0594f346e4b69420b\u001b[0m|  \u001b[1m\u001b[34mMyKeyPair\u001b[0m           |  \u001b[1m\u001b[34m2020-04-20T22:32:46.000Z\u001b[0m |  \u001b[1m\u001b[34mHW2_test2\u001b[0m    |  \u001b[1m\u001b[34mrunning\u001b[0m  |  \u001b[1m\u001b[34mt3a.small\u001b[0m  |\u001b[0m\u001b[0m\r\n",
      "\u001b[0m\u001b[0m+---------------------+----------------------+---------------------------+---------------+-----------+-------------+\u001b[0m\u001b[0m\r\n",
      "\u001b[0m\u001b[0m"
     ]
    }
   ],
   "source": [
    "!aws ec2 describe-instances \\\n",
    "    --query 'Reservations[*].Instances[*].{Type:InstanceType,\\\n",
    "                                           LaunchTime:LaunchTime,\\\n",
    "                                           Instance:InstanceId,\\\n",
    "                                           KeyName:KeyName,\\\n",
    "                                           State:State.Name,\\\n",
    "                                           Name:Tags[?Key==`cluster-name`]|[0].Value}' \\\n",
    "    --output table"
   ]
  },
  {
   "cell_type": "markdown",
   "metadata": {
    "slideshow": {
     "slide_type": "slide"
    }
   },
   "source": [
    "### a few options for shutting down instances \n",
    "This is just for if you notice any instances that seem to have been running for a while whithout usage. In that case terminate/stop by instance ID manually. "
   ]
  },
  {
   "cell_type": "code",
   "execution_count": 3,
   "metadata": {
    "slideshow": {
     "slide_type": "fragment"
    }
   },
   "outputs": [],
   "source": [
    "# !aws ec2 stop-instances --instance-ids \"i-0105aaca12dbcb0e1\" \"i-0f36f5a941f2fee32\"\n",
    "# !aws ec2 stop-instances --instance-ids \"i-0c71d929d331d1a9d\" --hibernate\n",
    "# !aws ec2 terminate-instances --instance-ids \"i-06db20077a6e44cad\"\n",
    "# !aws ec2 terminate-instances --instance-ids \"i-0e4ccb193e3cdcdc8\" \"i-03e1edfe2e3dfbebe\" \"i-097fb433d4ae7cbf5\" \"i-0a3c0ba81017dc92e\""
   ]
  },
  {
   "cell_type": "markdown",
   "metadata": {
    "slideshow": {
     "slide_type": "slide"
    }
   },
   "source": [
    "### Now let's make a list of the instance types we want to be testing"
   ]
  },
  {
   "cell_type": "code",
   "execution_count": 4,
   "metadata": {
    "slideshow": {
     "slide_type": "fragment"
    }
   },
   "outputs": [
    {
     "data": {
      "text/html": [
       "<div>\n",
       "<style scoped>\n",
       "    .dataframe tbody tr th:only-of-type {\n",
       "        vertical-align: middle;\n",
       "    }\n",
       "\n",
       "    .dataframe tbody tr th {\n",
       "        vertical-align: top;\n",
       "    }\n",
       "\n",
       "    .dataframe thead th {\n",
       "        text-align: right;\n",
       "    }\n",
       "</style>\n",
       "<table border=\"1\" class=\"dataframe\">\n",
       "  <thead>\n",
       "    <tr style=\"text-align: right;\">\n",
       "      <th></th>\n",
       "      <th>instanceType</th>\n",
       "      <th>vCPU</th>\n",
       "      <th>ECU</th>\n",
       "      <th>memoryGB</th>\n",
       "      <th>instanceStorage</th>\n",
       "      <th>priceHour</th>\n",
       "      <th>category</th>\n",
       "    </tr>\n",
       "  </thead>\n",
       "  <tbody>\n",
       "    <tr>\n",
       "      <th>0</th>\n",
       "      <td>t3.nano</td>\n",
       "      <td>2</td>\n",
       "      <td>Variable</td>\n",
       "      <td>0.5 GiB</td>\n",
       "      <td>EBS Only</td>\n",
       "      <td>$0.0062 per Hour</td>\n",
       "      <td>general purpose</td>\n",
       "    </tr>\n",
       "    <tr>\n",
       "      <th>1</th>\n",
       "      <td>t3.micro</td>\n",
       "      <td>2</td>\n",
       "      <td>Variable</td>\n",
       "      <td>1 GiB</td>\n",
       "      <td>EBS Only</td>\n",
       "      <td>$0.0125 per Hour</td>\n",
       "      <td>general purpose</td>\n",
       "    </tr>\n",
       "    <tr>\n",
       "      <th>2</th>\n",
       "      <td>t3.small</td>\n",
       "      <td>2</td>\n",
       "      <td>Variable</td>\n",
       "      <td>2 GiB</td>\n",
       "      <td>EBS Only</td>\n",
       "      <td>$0.025 per Hour</td>\n",
       "      <td>general purpose</td>\n",
       "    </tr>\n",
       "    <tr>\n",
       "      <th>3</th>\n",
       "      <td>t3.medium</td>\n",
       "      <td>2</td>\n",
       "      <td>Variable</td>\n",
       "      <td>4 GiB</td>\n",
       "      <td>EBS Only</td>\n",
       "      <td>$0.0499 per Hour</td>\n",
       "      <td>general purpose</td>\n",
       "    </tr>\n",
       "    <tr>\n",
       "      <th>4</th>\n",
       "      <td>t3.large</td>\n",
       "      <td>2</td>\n",
       "      <td>Variable</td>\n",
       "      <td>8 GiB</td>\n",
       "      <td>EBS Only</td>\n",
       "      <td>$0.0998 per Hour</td>\n",
       "      <td>general purpose</td>\n",
       "    </tr>\n",
       "  </tbody>\n",
       "</table>\n",
       "</div>"
      ],
      "text/plain": [
       "  instanceType  vCPU       ECU memoryGB instanceStorage         priceHour  \\\n",
       "0      t3.nano     2  Variable  0.5 GiB        EBS Only  $0.0062 per Hour   \n",
       "1     t3.micro     2  Variable    1 GiB        EBS Only  $0.0125 per Hour   \n",
       "2     t3.small     2  Variable    2 GiB        EBS Only   $0.025 per Hour   \n",
       "3    t3.medium     2  Variable    4 GiB        EBS Only  $0.0499 per Hour   \n",
       "4     t3.large     2  Variable    8 GiB        EBS Only  $0.0998 per Hour   \n",
       "\n",
       "          category  \n",
       "0  general purpose  \n",
       "1  general purpose  \n",
       "2  general purpose  \n",
       "3  general purpose  \n",
       "4  general purpose  "
      ]
     },
     "execution_count": 4,
     "metadata": {},
     "output_type": "execute_result"
    }
   ],
   "source": [
    "pricedf = pd.read_csv('ec2ondemandprices20200419.csv')\n",
    "pricedf.head()"
   ]
  },
  {
   "cell_type": "markdown",
   "metadata": {
    "slideshow": {
     "slide_type": "subslide"
    }
   },
   "source": [
    "Now, make the price column numeric, and select only the cheaper instances for this test."
   ]
  },
  {
   "cell_type": "code",
   "execution_count": 5,
   "metadata": {
    "slideshow": {
     "slide_type": "fragment"
    }
   },
   "outputs": [
    {
     "name": "stdout",
     "output_type": "stream",
     "text": [
      "['t3.nano', 't3.micro', 't3.small', 't3.medium', 't3.large', 't3.xlarge', 't3.2xlarge', 'm5.large', 'm5.xlarge', 'm5.2xlarge', 'c5.large', 'c5.xlarge', 'c5.2xlarge', 'r5.large', 'r5.xlarge', 'r5d.large', 'r5d.xlarge', 'i3en.large']\n",
      "[0.0062 0.0125 0.025  0.0499 0.0998 0.1997 0.3994 0.115  0.23   0.461\n",
      " 0.102  0.204  0.408  0.151  0.302  0.173  0.346  0.271 ]\n"
     ]
    }
   ],
   "source": [
    "if pricedf['priceHour'].dtype == 'O':\n",
    "    pricedf['priceHour'] = pd.to_numeric(pricedf.priceHour.str.extract('(\\d*\\.?\\d.?\\d.?\\d.)')[0])\n",
    "\n",
    "priceCutOff = 0.5\n",
    "dfTest = pricedf[pricedf['priceHour'] < priceCutOff]\n",
    "\n",
    "typeList = dfTest['instanceType'].tolist()\n",
    "priceList = np.round(dfTest['priceHour'].tolist(),4)\n",
    "print(typeList)\n",
    "print(priceList)"
   ]
  },
  {
   "cell_type": "markdown",
   "metadata": {
    "slideshow": {
     "slide_type": "slide"
    }
   },
   "source": [
    "### Let's use the startup script from class here. \n",
    "Just copied it in here, to see what's happening. \n",
    "Obviously, once we have created it once, we wouldn't need to run this again."
   ]
  },
  {
   "cell_type": "code",
   "execution_count": 6,
   "metadata": {
    "slideshow": {
     "slide_type": "fragment"
    }
   },
   "outputs": [],
   "source": [
    "startup_script = '''git clone https://github.com/fliphilipp/Public-DSC291\n",
    "sudo pip install psutil\n",
    "\n",
    "# run the following if the instance has an SSD that needs to be formatted and mounted.\n",
    "\n",
    "lsblk\n",
    "sudo mkfs.ext4 -E nodiscard -m0 /dev/nvme0n1   #format\n",
    "sudo mkdir /home/ubuntu/spda                   #make root for mounting\n",
    "sudo mount -o discard /dev/nvme0n1 /home/ubuntu/spda # mount\n",
    "ln -s /home/ubuntu/spda scratch                #create local link\n",
    "sudo chmod a+rwx scratch                       # make read/write-able\n",
    "lsblk'''\n",
    "\n",
    "theFile = open('startup.sh','w') \n",
    "theFile.write(startup_script) \n",
    "theFile.close() "
   ]
  },
  {
   "cell_type": "code",
   "execution_count": null,
   "metadata": {
    "slideshow": {
     "slide_type": "fragment"
    }
   },
   "outputs": [],
   "source": [
    "# make sure this worked\n",
    "!cat startup.sh"
   ]
  },
  {
   "cell_type": "markdown",
   "metadata": {
    "slideshow": {
     "slide_type": "slide"
    }
   },
   "source": [
    "## Python wrapper for aws-jupyter"
   ]
  },
  {
   "cell_type": "markdown",
   "metadata": {
    "slideshow": {
     "slide_type": "fragment"
    }
   },
   "source": [
    "We could put this in a separate file (as demonstrated in class), but here I wanna understand what's going on..."
   ]
  },
  {
   "cell_type": "code",
   "execution_count": 7,
   "metadata": {
    "slideshow": {
     "slide_type": "fragment"
    }
   },
   "outputs": [],
   "source": [
    "def run_command(command,debug=False):\n",
    "    if debug:\n",
    "        print('running ',command)\n",
    "    p=subprocess.Popen(command.split(), stdout=subprocess.PIPE, stderr=subprocess.PIPE)\n",
    "    out=p.communicate()\n",
    "    stdout=out[0].decode()\n",
    "    stderr=out[1].decode()\n",
    "    outputs={\"stderr\":stderr,\n",
    "             \"stdout\":stdout}\n",
    "    if debug:\n",
    "        print(outputs)\n",
    "    return outputs"
   ]
  },
  {
   "cell_type": "code",
   "execution_count": 8,
   "metadata": {
    "slideshow": {
     "slide_type": "fragment"
    }
   },
   "outputs": [],
   "source": [
    "class aws_jupyter:\n",
    "    \"\"\"\n",
    "    A python wrapper around the script **aws-jupyter**\n",
    "    \"\"\"\n",
    "    \n",
    "    def check(self):\n",
    "        \"\"\"\n",
    "        Check on the status of the ec2 instance\n",
    "        Returns status\n",
    "        -------\n",
    "        0 = No instance running under this name \n",
    "        \n",
    "        1 = instance in the process of starting up\n",
    "        \n",
    "        2 = instance available        \n",
    "        \n",
    "        -1 = Status could not be parsed\n",
    "        \"\"\"\n",
    "        check_cmd = \"aws-jupyter check --name %s\"%self.name\n",
    "        self.decoded=run_command(check_cmd)\n",
    "        stdout=self.decoded['stdout']\n",
    "        if('The Jupyter Notebook is running on the cluster at the address below.' in stdout):\n",
    "            print(stdout)\n",
    "            return 2\n",
    "        elif(\"No instance found in the cluster\" in stdout):\n",
    "            return 0\n",
    "        elif(\"Cluster is not ready. Please check again later.\" in stdout):\n",
    "            return 1\n",
    "        else:\n",
    "            print(\" ...did not recognize check status\")\n",
    "            # print(stdout)\n",
    "            return -1\n",
    "\n",
    "    def run(self,scriptname,files=[],credentials=\"\",waitforoutput=True,printoutput=False): \n",
    "        \"\"\"\n",
    "        Run a local script on the remote instance\n",
    "        Parameters\n",
    "        ----------\n",
    "        scriptname : TYPE\n",
    "            DESCRIPTION.\n",
    "        files : TYPE, optional\n",
    "            DESCRIPTION. The default is [].\n",
    "        credentials : TYPE\n",
    "            DESCRIPTION.\n",
    "        waitforoutput : TYPE, optional\n",
    "            DESCRIPTION. The default is True.\n",
    "        Returns\n",
    "        -------\n",
    "        None.\n",
    "        \"\"\"\n",
    "            \n",
    "        running_cmd = \"aws-jupyter run -s {script}\"\n",
    "        runcmd = running_cmd.format(script=scriptname)\n",
    "        if len(files)>0:\n",
    "            runcmd += \" --files\"\n",
    "            for i in range(len(files)):\n",
    "                runcmd += \" {fn}\".format(fn=files[i])\n",
    "        if waitforoutput:\n",
    "            runcmd += \" --output\"\n",
    "        print(\"running command: {runcmd}\".format(runcmd=runcmd))\n",
    "        out = run_command(runcmd,debug=False)\n",
    "        if printoutput:\n",
    "            print(out['stdout'])\n",
    "            print(out['stderr'])\n",
    "\n",
    "    def retrieve():\n",
    "        \"\"\" call aws-jupyter retrieve\"\"\"\n",
    "        return\n",
    "    \n",
    "    def terminate(self,printoutput=False):\n",
    "        \"\"\" call aws-jupyter terminate\"\"\"\n",
    "        term_cmd = \"yes | aws-jupyter terminate --name %s\" % self.name\n",
    "        print(\"terminate instance: {term_cmd}\".format(term_cmd=term_cmd))\n",
    "        out = run_command(term_cmd)\n",
    "        if printoutput:\n",
    "            print(out['stdout'])\n",
    "            print(out['stderr'])\n",
    "            \n",
    "    def __init__(self,name='instance',count=1,_type='t3.large',spot=0):\n",
    "        \"\"\"\n",
    "        Create a cluster of instances on ec2\n",
    "        Parameters\n",
    "        ----------\n",
    "        name : TYPE, optional\n",
    "            DESCRIPTION. The default is 'instance'.\n",
    "        count : TYPE, optional\n",
    "            DESCRIPTION. The default is 1.\n",
    "        _type : TYPE, optional\n",
    "            DESCRIPTION. The default is 't3.large'.\n",
    "        spot : TYPE, optional\n",
    "            DESCRIPTION. The default is 0.\n",
    "        Returns\n",
    "        -------\n",
    "        None.\n",
    "        \"\"\"\n",
    "        self.name=name\n",
    "        status=self.check()\n",
    "        if status==1:\n",
    "            print(\"cluster %s not ready yet\"%self.name)\n",
    "            return\n",
    "        elif status==2:\n",
    "            print(\"cluster running\")\n",
    "            return\n",
    "\n",
    "        create_cmd = \"aws-jupyter create -c {count} --name {name} --type {_type}\"\n",
    "        command=create_cmd.format(count=count,name=name,_type=_type)\n",
    "        if spot>0:\n",
    "            command.append(\" --spot %4.2f\"%spot)\n",
    "        out=run_command(command)\n",
    "        print(\"initiated instance:\",command)\n",
    " \n",
    "        i=0; wait_period=10\n",
    "        while True:\n",
    "            status=self.check()\n",
    "            if status==2:\n",
    "                # print(stdout)\n",
    "                break\n",
    "            print('\\r check',i*wait_period,end='')\n",
    "            i+=1\n",
    "            sleep(wait_period)"
   ]
  },
  {
   "cell_type": "markdown",
   "metadata": {},
   "source": [
    "## [Jake]: This is where we can run the scripts I wrote"
   ]
  },
  {
   "cell_type": "code",
   "execution_count": null,
   "metadata": {},
   "outputs": [],
   "source": [
    "import subprocess"
   ]
  },
  {
   "cell_type": "code",
   "execution_count": 53,
   "metadata": {},
   "outputs": [],
   "source": [
    "typeL = typeList[0]\n",
    "\n",
    "for typeL in typeList[0:3]:\n",
    "    subprocess.call(\"aws-jupyter create -c 1 --name typeL\", shell=True)\n",
    "    time.sleep(30) # wait for aws to configure the instance\n",
    "    subprocess.call(\"aws-jupyter check --name typeL\", shell=True)\n",
    "    ## The below directory should be the git repository. the remote directory \"./\" is \"/home/ubuntu/hw2\" on the AWS system\n",
    "    output = subprocess.check_output('aws-jupyter send-dir --local /home/jakemdaly/Documents/courses/dsc-291/TeamGitRepo/Public-DSC291/hw2/ --remote ./', shell=True)#, stdout=subprocess.PIPE, stderr=subprocess.PIPE)\n",
    "    start_char = str(output).find(\"ubuntu\")\n",
    "    indexer = start_char\n",
    "    while str(output)[indexer] != \" \":\n",
    "        indexer += 1\n",
    "    remote_instance = str(output)[start_char:indexer]\n",
    "    check1 = subprocess.check_output(\"ssh -i /home/jakemdaly/.ssh/JakeDSC291KeyPair.pem %s 'bash -s' < TRunFileGenerator.sh\"%remote_instance, shell=True)\n",
    "    check2 = subprocess.check_output(\"scp -i /home/jakemdaly/.ssh/JakeDSC291KeyPair.pem %s:/home/ubuntu/hw2/latencies.csv /home/jakemdaly/Documents/courses/dsc-291/TeamGitRepo/Public-DSC291/hw2/\"%remote_instance, shell=True)\n",
    "    subprocess.check_output(\"mv latencies.csv latencies_%s.csv\"%(typeL), shell=True)\n",
    "    subproces.call(\"aws-jupyter terminate --name %s\"%typeL)\n"
   ]
  },
  {
   "cell_type": "code",
   "execution_count": 44,
   "metadata": {},
   "outputs": [
    {
     "data": {
      "text/plain": [
       "'ubuntu@54.213.26.69'"
      ]
     },
     "execution_count": 44,
     "metadata": {},
     "output_type": "execute_result"
    }
   ],
   "source": [
    "remote_instance\n"
   ]
  },
  {
   "cell_type": "code",
   "execution_count": null,
   "metadata": {},
   "outputs": [],
   "source": [
    "!aws-jupyter retrieve --remote /home/ubuntu/workspace/1KB.txt --local ./"
   ]
  },
  {
   "cell_type": "markdown",
   "metadata": {
    "slideshow": {
     "slide_type": "slide"
    }
   },
   "source": [
    "### Coming up with some script to run on each instance\n",
    "\n",
    "---> this is where we probably wanna do something more interesting haha"
   ]
  },
  {
   "cell_type": "code",
   "execution_count": null,
   "metadata": {
    "slideshow": {
     "slide_type": "fragment"
    }
   },
   "outputs": [],
   "source": [
    "program_to_run = '''#!/usr/bin/env python3\n",
    "\n",
    "import numpy as np\n",
    "from time import time\n",
    "from os.path import isfile,isdir\n",
    "from os import mkdir,chdir,getcwd\n",
    "import pickle as pk\n",
    "\n",
    "times = []\n",
    "nTrials = 100\n",
    "nFibonacci = 10**5\n",
    "\n",
    "# a dumb random computational task, on which to compare instances\n",
    "inst_starttime = time()\n",
    "for k in range(nTrials):\n",
    "    starttime = time()\n",
    "    fibonacci_previous = 1\n",
    "    fibonacci_current = 1\n",
    "    for i in range(2,nFibonacci):\n",
    "        fibonacci_next = fibonacci_previous + fibonacci_current\n",
    "        fibonacci_previous = fibonacci_current\n",
    "        fibonacci_current = fibonacci_next\n",
    "    DT = time() - starttime\n",
    "    times.append(DT)\n",
    "print(time() - inst_starttime)\n",
    "    \n",
    "#hist(times,bins=50)\n",
    "exec_dir = getcwd()\n",
    "log_dir = exec_dir + '/measurement_logs/'\n",
    "if not isdir(log_dir):\n",
    "    mkdir(log_dir)\n",
    "fn = log_dir + 'stats.pkl'\n",
    "with open(fn,'wb') as times_pkl:\n",
    "    pk.dump(times,times_pkl,protocol=pk.HIGHEST_PROTOCOL)'''\n",
    "\n",
    "theFile = open('ec2testFibonacci.py','w') \n",
    "theFile.write(program_to_run) \n",
    "theFile.close() "
   ]
  },
  {
   "cell_type": "markdown",
   "metadata": {
    "slideshow": {
     "slide_type": "slide"
    }
   },
   "source": [
    "# Now lets start all instances in the list and run our timed experiment multiple times!\n"
   ]
  },
  {
   "cell_type": "code",
   "execution_count": null,
   "metadata": {
    "slideshow": {
     "slide_type": "skip"
    }
   },
   "outputs": [],
   "source": [
    "# if you want to just try, say, 3 different ones for testing\n",
    "# typeList = typeList[0:3]\n",
    "typeList"
   ]
  },
  {
   "cell_type": "code",
   "execution_count": null,
   "metadata": {},
   "outputs": [],
   "source": []
  },
  {
   "cell_type": "code",
   "execution_count": null,
   "metadata": {
    "slideshow": {
     "slide_type": "fragment"
    }
   },
   "outputs": [],
   "source": [
    "remotedir = 'from_remote'\n",
    "if not isdir(remotedir):\n",
    "    mkdir(remotedir)\n",
    "    \n",
    "for thisType in typeList:\n",
    "    thisName = \"h2\" + thisType.replace('.','')\n",
    "    \n",
    "    # initiate instance and run startup\n",
    "    thisInst = aws_jupyter(name=thisName, count=1, _type=thisType)\n",
    "    thisInst.run(scriptname='startup.sh',printoutput=True)\n",
    "    \n",
    "    # run the test script\n",
    "    thisInst.run(scriptname='ec2testFibonacci.py',printoutput=True)\n",
    "    \n",
    "    # retrieve files\n",
    "    !sleep 120\n",
    "    !aws-jupyter retrieve --remote /home/ubuntu/workspace/measurement_logs/stats.pkl --local from_remote/\n",
    "    new_fn = 'from_remote/stats_' + thisType.replace('.','-') + '.pkl'\n",
    "    !mv from_remote/worker-0/stats.pkl $new_fn\n",
    "    \n",
    "    # terminate instances\n",
    "    # thisInst.terminate(printoutput=True)  # <--- this doesn't work!\n",
    "    !yes | aws-jupyter terminate --name $thisInst.name"
   ]
  },
  {
   "cell_type": "code",
   "execution_count": null,
   "metadata": {
    "slideshow": {
     "slide_type": "slide"
    }
   },
   "outputs": [],
   "source": [
    "# print out list of instances again, to make sure we've terminated them\n",
    "!aws ec2 describe-instances \\\n",
    "    --query 'Reservations[*].Instances[*].{Type:InstanceType,\\\n",
    "                                           LaunchTime:LaunchTime,\\\n",
    "                                           Instance:InstanceId,\\\n",
    "                                           KeyName:KeyName,\\\n",
    "                                           State:State.Name,\\\n",
    "                                           Name:Tags[?Key==`cluster-name`]|[0].Value}' \\\n",
    "    --output table"
   ]
  },
  {
   "cell_type": "markdown",
   "metadata": {
    "slideshow": {
     "slide_type": "slide"
    }
   },
   "source": [
    "### Now, get the data back into this notebook\n",
    "Make a pandas data frame with all the data collected from the different types of instances."
   ]
  },
  {
   "cell_type": "code",
   "execution_count": null,
   "metadata": {
    "slideshow": {
     "slide_type": "fragment"
    }
   },
   "outputs": [],
   "source": [
    "results = pd.DataFrame(columns = typeList)\n",
    "for thisType in typeList:\n",
    "    filename = 'from_remote/stats_' + thisType.replace('.','-') + '.pkl'\n",
    "    if isfile(filename):\n",
    "        infile = open(filename,'rb')\n",
    "        thisData = pk.load(infile)\n",
    "        infile.close()\n",
    "        results[thisType] = thisData\n",
    "results.head()"
   ]
  },
  {
   "cell_type": "markdown",
   "metadata": {
    "slideshow": {
     "slide_type": "slide"
    }
   },
   "source": [
    "### and plot the execution times for each instance as a boxplot"
   ]
  },
  {
   "cell_type": "code",
   "execution_count": null,
   "metadata": {
    "slideshow": {
     "slide_type": "fragment"
    }
   },
   "outputs": [],
   "source": [
    "bp1 = results.boxplot(rot=90)\n",
    "bp1.set_title('execution times on different instance types')\n",
    "bp1.set_ylabel('execution time in seconds')"
   ]
  },
  {
   "cell_type": "markdown",
   "metadata": {
    "slideshow": {
     "slide_type": "slide"
    }
   },
   "source": [
    "### Now, let's divide by price, to see how cost-effective each would be. "
   ]
  },
  {
   "cell_type": "code",
   "execution_count": null,
   "metadata": {
    "slideshow": {
     "slide_type": "fragment"
    }
   },
   "outputs": [],
   "source": [
    "byPrice = pd.DataFrame(columns = typeList)\n",
    "for i, thisType in enumerate(typeList):\n",
    "    byPrice[thisType] = priceList[i] * (results[thisType] / 3600)\n",
    "byPrice.head()"
   ]
  },
  {
   "cell_type": "markdown",
   "metadata": {
    "slideshow": {
     "slide_type": "slide"
    }
   },
   "source": [
    "### and make another boxplot"
   ]
  },
  {
   "cell_type": "code",
   "execution_count": null,
   "metadata": {
    "slideshow": {
     "slide_type": "fragment"
    }
   },
   "outputs": [],
   "source": [
    "bp2 = byPrice.boxplot(rot=90)\n",
    "bp2.set_title('cost-effectiveness of different instance types')\n",
    "bp2.set_ylabel('price for execution time of the script')"
   ]
  },
  {
   "cell_type": "markdown",
   "metadata": {
    "slideshow": {
     "slide_type": "slide"
    }
   },
   "source": [
    "## This one is for terminating all created instances\n",
    "(if you haven't already closed them)"
   ]
  },
  {
   "cell_type": "code",
   "execution_count": null,
   "metadata": {
    "slideshow": {
     "slide_type": "fragment"
    }
   },
   "outputs": [],
   "source": [
    "for thisType in typeList:\n",
    "    \n",
    "    print(thisType)\n",
    "    # thisInst.terminate(printoutput=True)  # <--- this doesn't work!\n",
    "    \n",
    "    !yes | aws-jupyter terminate --name $thisInst.name"
   ]
  },
  {
   "cell_type": "code",
   "execution_count": null,
   "metadata": {
    "slideshow": {
     "slide_type": "slide"
    }
   },
   "outputs": [],
   "source": [
    "# To view this notebook as slides\n",
    "# !jupyter nbconvert hw2psa.ipynb --to slides --post serve"
   ]
  }
 ],
 "metadata": {
  "celltoolbar": "Slideshow",
  "kernelspec": {
   "display_name": "Python 3",
   "language": "python",
   "name": "python3"
  },
  "language_info": {
   "codemirror_mode": {
    "name": "ipython",
    "version": 3
   },
   "file_extension": ".py",
   "mimetype": "text/x-python",
   "name": "python",
   "nbconvert_exporter": "python",
   "pygments_lexer": "ipython3",
   "version": "3.7.7"
  }
 },
 "nbformat": 4,
 "nbformat_minor": 4
}
