Jupyter Notebook
SuhanTest.ipynb.txt
7 分钟前
Plain Text
File
Edit
View
Language
1
{
2
 "cells": [
3
  {
4
   "cell_type": "markdown",
5
   "metadata": {},
6
   "source": [
7
    "## About the project\n",
8
    "The goal is to use the variable WT08 analyzing if there is a relationship between COVID-19 and US air quality in 2020.According to our plan, the experimental design is as follows: \n",
9
    "\n",
10
    "1. Extract daily values of variables over January - April of all years to the present worldwide.\n",
11
    "2. Quantify historic variability in each variable at a site-by-site level: e.g., mean and CI (parametric or non-parametric quantile intervals) by site over all years to 2019. This might depend on data scarcity/availability.\n",
12
    "3. Evaluate placement of 2020 observations relative to long-term variability using appropriate statistical test.\n",
13
    "4. Potential use of PCA: across all sites (not site by site), could look and see if components responsible for greatest variation in 2020 data look different than prior years (not sure if that’s possible - might be for precip and temp, prob not for smoke/haze and fog)\n"
14
   ]
15
  },
16
  {
17
   "cell_type": "code",
18
   "execution_count": 1,
19
   "metadata": {},
20
   "outputs": [],
21
   "source": [
22
    "import pandas as pd\n",
23
    "import numpy as np\n",
24
    "import sklearn as sk\n",
25
    "import urllib\n",
26
    "import math\n",
27
    "\n",
28
    "import findspark\n",
29
    "findspark.init()\n",
30
    "from pyspark import SparkContext\n",
31
    "sc = SparkContext(master=\"local[4]\")\n",
32
    "#sc.version\n",
33
    "\n",
34
    "from pyspark import SparkContext\n",
35
    "from pyspark.sql import *\n",
36
    "import pyspark.sql\n",
37
    "sqlContext = SQLContext(sc)"
38
   ]
39
  },
40
  {
41
   "cell_type": "markdown",
42
   "metadata": {},
43
   "source": [
44
    "## About the data\n",
45
    "Just make some small tests. I have downloaded NOAA GHCN-D data (year 2017-2020) from AWS and saved them in the directory ~/weather_data/test\n",
46
    "The stations text file is saved in the same directory.\n",
47
    "The yearly files stores wheather data of the whole world, while we are mainly interested in the WT08 variable of US from January to April each year.So first we need to do some data cleaning.Take year 2020 for instance."
48
   ]
49
  },
50
  {
51
   "cell_type": "code",
52
   "execution_count": 3,
53
   "metadata": {},
54
   "outputs": [
55
    {
56
     "name": "stdout",
57
     "output_type": "stream",
58
     "text": [
59
      "+-----------+----+-------+----+--------+-------+----+----+----+----+----+----+-------+--------+----+----+----+----+----+----+----+----+----+----+----+----+----+----+----+----+----+-----+----+----+----+----+----+----+\n",
60
      "|        _c0| _c1|    _c2| _c3|     _c4|    _c5| _c6| _c7| _c8| _c9|_c10|_c11|   _c12|    _c13|_c14|_c15|_c16|_c17|_c18|_c19|_c20|_c21|_c22|_c23|_c24|_c25|_c26|_c27|_c28|_c29|_c30| _c31|_c32|_c33|_c34|_c35|_c36|_c37|\n",
61
      "+-----------+----+-------+----+--------+-------+----+----+----+----+----+----+-------+--------+----+----+----+----+----+----+----+----+----+----+----+----+----+----+----+----+----+-----+----+----+----+----+----+----+\n",
62
      "|ACW00011604|null|17.1167|null|-61.7833|   null|null|10.1|null|null|null|  ST|  JOHNS|COOLIDGE| FLD|null|null|null|null|null|null|null|null|null|null|null|null|null|null|null|null| null|null|null|null|null|null|null|\n",
63
      "|ACW00011647|null|17.1333|null|-61.7833|   null|null|19.2|null|null|null|  ST|  JOHNS|    null|null|null|null|null|null|null|null|null|null|null|null|null|null|null|null|null|null| null|null|null|null|null|null|null|\n",
64
      "|AE000041196|null|25.3330|null|    null|55.5170|null|null|34.0|null|null|null|SHARJAH|  INTER.|AIRP|null|null|null|null|null|null|null|null|null|null|null| GSN|null|null|null|null|41196|null|null|null|null|null|null|\n",
65
      "|AEM00041194|null|25.2550|null|    null|55.3640|null|null|10.4|null|null|null|  DUBAI|    INTL|null|null|null|null|null|null|null|null|null|null|null|null|null|null|null|null|null| null|null|null|null|null|null|null|\n",
66
      "+-----------+----+-------+----+--------+-------+----+----+----+----+----+----+-------+--------+----+----+----+----+----+----+----+----+----+----+----+----+----+----+----+----+----+-----+----+----+----+----+----+----+\n",
67
      "only showing top 4 rows\n",
68
      "\n"
69
     ]
70
    }
71
   ],
72
   "source": [
73
    "stations = sqlContext.read.csv(\"/home/fyjj/weather_data/test/stations.txt\", sep=\" \", mode=\"PERMISSIVE\", header=False)\n",
74
    "stations.show(4)"
75
   ]
76
  },
77
  {
