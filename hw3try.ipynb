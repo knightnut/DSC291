Jupyter Notebook
SuhanTest.ipynb.txt
3 分钟前
Plain Text
File
Edit
View
Language
1
{
2
 "cells": [
3
  {
4
   "cell_type": "markdown",
5
   "metadata": {},
6
   "source": [
7
    "## About the project\n",
8
    "The goal is to use the variable WT08 analyzing if there is a relationship between COVID-19 and US air quality in 2020.According to our plan, the experimental design is as follows: \n",
9
    "\n",
10
    "1. Extract daily values of variables over January - April of all years to the present worldwide.\n",
11
    "2. Quantify historic variability in each variable at a site-by-site level: e.g., mean and CI (parametric or non-parametric quantile intervals) by site over all years to 2019. This might depend on data scarcity/availability.\n",
12
    "3. Evaluate placement of 2020 observations relative to long-term variability using appropriate statistical test.\n",
13
    "4. Potential use of PCA: across all sites (not site by site), could look and see if components responsible for greatest variation in 2020 data look different than prior years (not sure if that’s possible - might be for precip and temp, prob not for smoke/haze and fog)\n"
14
   ]
15
  },
16
  {
17
   "cell_type": "code",
18
   "execution_count": 1,
19
   "metadata": {},
20
   "outputs": [],
21
   "source": [
22
    "import pandas as pd\n",
23
    "import numpy as np\n",
24
    "import sklearn as sk\n",
25
    "import urllib\n",
26
    "import math\n",
27
    "\n",
28
    "import findspark\n",
29
    "findspark.init()\n",
30
    "from pyspark import SparkContext\n",
31
    "sc = SparkContext(master=\"local[4]\")\n",
32
    "#sc.version\n",
33
    "\n",
34
    "from pyspark import SparkContext\n",
35
    "from pyspark.sql import *\n",
36
    "import pyspark.sql\n",
37
    "sqlContext = SQLContext(sc)"
38
   ]
39
  },
40
  {
41
   "cell_type": "markdown",
42
   "metadata": {},
43
   "source": [
44
    "## About the data\n",
45
    "Just make some small tests. I have downloaded NOAA GHCN-D data (year 2017-2020) from AWS and saved them in the directory ~/weather_data/test\n",
46
    "The stations text file is saved in the same directory.\n",
47
    "The yearly files stores wheather data of the whole world, while we are mainly interested in the WT08 variable of US from January to April each year.So first we need to do some data cleaning.Take year 2020 for instance."
48
   ]
49
  },
50
  {
